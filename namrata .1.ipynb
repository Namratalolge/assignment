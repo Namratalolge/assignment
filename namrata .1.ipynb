{
 "cells": [
  {
   "cell_type": "code",
   "execution_count": 4,
   "id": "57691550",
   "metadata": {},
   "outputs": [
    {
     "name": "stdout",
     "output_type": "stream",
     "text": [
      "The area of triangle is%0.2f 14.696938456699069\n"
     ]
    }
   ],
   "source": [
    "a=5 \n",
    "b=6\n",
    "c=7\n",
    "s=(a+b+c)/2\n",
    "area=(s*(s-a)*(s-b)*(s-c))**0.5\n",
    "print('The area of triangle is%0.2f',area)"
   ]
  },
  {
   "cell_type": "code",
   "execution_count": 5,
   "id": "c9e23edc",
   "metadata": {},
   "outputs": [
    {
     "name": "stdout",
     "output_type": "stream",
     "text": [
      "value of x: 10\n",
      "value of y: 5\n"
     ]
    }
   ],
   "source": [
    "x=5\n",
    "y=10\n",
    "temp=x\n",
    "x=y\n",
    "y=temp\n",
    "print('value of x:',x)\n",
    "print('value of y:',y)"
   ]
  },
  {
   "cell_type": "code",
   "execution_count": 6,
   "id": "f27a907b",
   "metadata": {},
   "outputs": [
    {
     "name": "stdout",
     "output_type": "stream",
     "text": [
      "0.7678248793902863\n"
     ]
    }
   ],
   "source": [
    "import random\n",
    "n=random.random()\n",
    "print(n)"
   ]
  },
  {
   "cell_type": "code",
   "execution_count": 2,
   "id": "d72a8eb5",
   "metadata": {},
   "outputs": [
    {
     "name": "stdout",
     "output_type": "stream",
     "text": [
      "Number is Negative\n"
     ]
    }
   ],
   "source": [
    "#Number is positive,Negative or zero\n",
    "a=-54.60\n",
    "if(a>0):\n",
    "    print(\"Number is Positive\")\n",
    "elif(a<0):\n",
    "    print(\"Number is Negative\")\n",
    "else:\n",
    "    print(\"It is zero\")"
   ]
  },
  {
   "cell_type": "code",
   "execution_count": 3,
   "id": "f651ce8a",
   "metadata": {},
   "outputs": [
    {
     "name": "stdout",
     "output_type": "stream",
     "text": [
      "Number is even\n"
     ]
    }
   ],
   "source": [
    "#Number is odd or even\n",
    "n=12\n",
    "if(n %2 ==0) :\n",
    "    print(\"Number is even\")\n",
    "else:\n",
    "    print(\"Number is odd\")"
   ]
  },
  {
   "cell_type": "code",
   "execution_count": 5,
   "id": "213f766d",
   "metadata": {},
   "outputs": [
    {
     "name": "stdout",
     "output_type": "stream",
     "text": [
      "Number is  prime\n"
     ]
    }
   ],
   "source": [
    "#prime Number\n",
    "n=11\n",
    "flag = False\n",
    "if n > 1 :\n",
    "    for i in range(2,n):\n",
    "            if n % i ==0 :\n",
    "                flag=True\n",
    "                break\n",
    "if flag :\n",
    "    print(\" Number is not a prime\")\n",
    "else:\n",
    "    print(\"Number is  prime\")"
   ]
  },
  {
   "cell_type": "code",
   "execution_count": 8,
   "id": "de0a33ef",
   "metadata": {},
   "outputs": [
    {
     "name": "stdout",
     "output_type": "stream",
     "text": [
      "It is not Armstrong number\n"
     ]
    }
   ],
   "source": [
    "#Armstron Number\n",
    "num = 120\n",
    "sum = 0\n",
    "temp = num\n",
    "while temp > 0 :\n",
    "    digit = temp % 10\n",
    "    sum += digit ** 3\n",
    "    temp //=10\n",
    "if num == sum :\n",
    "    print(\"It is an Armstrong number\")\n",
    "else:\n",
    "    print(\"It is not Armstrong number\")"
   ]
  },
  {
   "cell_type": "code",
   "execution_count": 11,
   "id": "5fbccb90",
   "metadata": {},
   "outputs": [
    {
     "name": "stdout",
     "output_type": "stream",
     "text": [
      "factorial of number is : 51090942171709440000\n"
     ]
    }
   ],
   "source": [
    "#factorial of a number\n",
    "num = 21\n",
    "factorial = 1\n",
    "if n < 0 :\n",
    "    print(\"factorial doesn't exit\")\n",
    "elif n == 0:\n",
    "    print(\"factorial of 0 is 1\")\n",
    "else:\n",
    "    for i in range(1, num + 1) :\n",
    "            factorial = factorial * i\n",
    "    print(\"factorial of number is :\",factorial)"
   ]
  },
  {
   "cell_type": "code",
   "execution_count": null,
   "id": "ec884e1d",
   "metadata": {},
   "outputs": [],
   "source": []
  }
 ],
 "metadata": {
  "kernelspec": {
   "display_name": "Python 3 (ipykernel)",
   "language": "python",
   "name": "python3"
  },
  "language_info": {
   "codemirror_mode": {
    "name": "ipython",
    "version": 3
   },
   "file_extension": ".py",
   "mimetype": "text/x-python",
   "name": "python",
   "nbconvert_exporter": "python",
   "pygments_lexer": "ipython3",
   "version": "3.9.12"
  }
 },
 "nbformat": 4,
 "nbformat_minor": 5
}
