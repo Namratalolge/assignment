{
 "cells": [
  {
   "cell_type": "code",
   "execution_count": 1,
   "id": "7588f544",
   "metadata": {},
   "outputs": [
    {
     "name": "stdout",
     "output_type": "stream",
     "text": [
      "Enter string :abc\n",
      "The string is not a palindrome\n"
     ]
    }
   ],
   "source": [
    "#palindrome or not\n",
    "string = input(\"Enter string :\")\n",
    "if(string == string [::-1]):\n",
    "    print(\"The string is a palindrome\")\n",
    "else:\n",
    "    print(\"The string is not a palindrome\")"
   ]
  },
  {
   "cell_type": "code",
   "execution_count": 2,
   "id": "cf34eaaf",
   "metadata": {},
   "outputs": [
    {
     "name": "stdout",
     "output_type": "stream",
     "text": [
      "practice and patience\n"
     ]
    }
   ],
   "source": [
    "#Reverse sentence\n",
    "string = \"patience and practice \"\n",
    "s = string.split()[::-1]\n",
    "print(\" \".join(s))"
   ]
  },
  {
   "cell_type": "code",
   "execution_count": 4,
   "id": "5367ea14",
   "metadata": {},
   "outputs": [
    {
     "name": "stdout",
     "output_type": "stream",
     "text": [
      "14\n"
     ]
    }
   ],
   "source": [
    "#maximum of three numbers\n",
    "def maximum(a, b, c) :\n",
    "    if (a >=b) and (a >=c) :\n",
    "        largest = a\n",
    "    elif (b >=a) and (b >=c) :    \n",
    "        largest = b\n",
    "    else:\n",
    "        largest = c\n",
    "    return largest\n",
    "a = 10\n",
    "b = 14\n",
    "c = 12\n",
    "print(maximum(a, b, c))"
   ]
  },
  {
   "cell_type": "code",
   "execution_count": 7,
   "id": "ba56975b",
   "metadata": {},
   "outputs": [
    {
     "name": "stdout",
     "output_type": "stream",
     "text": [
      "sum of numbers in a list :  150\n"
     ]
    }
   ],
   "source": [
    "#sum of all number in a list\n",
    "total = 0\n",
    "numbers = [10, 20, 30, 40, 50]\n",
    "for ele in range(0, len(numbers)) :\n",
    "    total = total + numbers[ele]\n",
    "print(\"sum of numbers in a list : \", total)"
   ]
  },
  {
   "cell_type": "code",
   "execution_count": 8,
   "id": "65dddb5c",
   "metadata": {},
   "outputs": [
    {
     "name": "stdout",
     "output_type": "stream",
     "text": [
      "Enter the string : namrata lolge\n",
      "Enter string is :  namrata lolge\n",
      "The string does not contain all vowels\n"
     ]
    }
   ],
   "source": [
    "#accept string while contain all vowels\n",
    "string = input('Enter the string : ')\n",
    "string = string.lower()\n",
    "vowels = set(\"aeiou\")\n",
    "for char in string :\n",
    "    if char in vowels :\n",
    "        vowels.remove(char)\n",
    "print(\"Enter string is : \", string)\n",
    "if len(vowels) == 0 :\n",
    "    print(\"The string contain all vowels\")\n",
    "else :\n",
    "    print(\"The string does not contain all vowels\")"
   ]
  },
  {
   "cell_type": "code",
   "execution_count": 9,
   "id": "a6d85921",
   "metadata": {},
   "outputs": [
    {
     "name": "stdout",
     "output_type": "stream",
     "text": [
      "multiple of all elements in list is : 120\n"
     ]
    }
   ],
   "source": [
    "#multiple all the element in the list\n",
    "total = 1\n",
    "numbers = [1, 2, 3, 4, 5]\n",
    "for x in numbers :\n",
    "    total *=x\n",
    "print(\"multiple of all elements in list is :\", total)    "
   ]
  },
  {
   "cell_type": "code",
   "execution_count": null,
   "id": "8645f24a",
   "metadata": {},
   "outputs": [],
   "source": []
  }
 ],
 "metadata": {
  "kernelspec": {
   "display_name": "Python 3 (ipykernel)",
   "language": "python",
   "name": "python3"
  },
  "language_info": {
   "codemirror_mode": {
    "name": "ipython",
    "version": 3
   },
   "file_extension": ".py",
   "mimetype": "text/x-python",
   "name": "python",
   "nbconvert_exporter": "python",
   "pygments_lexer": "ipython3",
   "version": "3.9.12"
  }
 },
 "nbformat": 4,
 "nbformat_minor": 5
}
