{
 "cells": [
  {
   "cell_type": "code",
   "execution_count": 1,
   "id": "7c3af003",
   "metadata": {},
   "outputs": [
    {
     "name": "stdout",
     "output_type": "stream",
     "text": [
      "multiple of all elements in list is : 120\n"
     ]
    }
   ],
   "source": [
    "#multiple all the element in the list\n",
    "total = 1\n",
    "numbers = [1, 2, 3, 4, 5]\n",
    "for x in numbers :\n",
    "    total *=x\n",
    "print(\"multiple of all elements in list is :\", total)    "
   ]
  },
  {
   "cell_type": "code",
   "execution_count": 2,
   "id": "cff0b0b5",
   "metadata": {},
   "outputs": [
    {
     "name": "stdout",
     "output_type": "stream",
     "text": [
      "('Lolge', 'Namrata', 'Krishnakumar')\n"
     ]
    }
   ],
   "source": [
    "#create a tuple\n",
    "MyTuple = (\"Lolge\", \"Namrata\", \"Krishnakumar\")\n",
    "print(MyTuple)"
   ]
  },
  {
   "cell_type": "code",
   "execution_count": 5,
   "id": "ff7b5932",
   "metadata": {},
   "outputs": [
    {
     "name": "stdout",
     "output_type": "stream",
     "text": [
      "('Namrata', 12, True)\n"
     ]
    }
   ],
   "source": [
    "#create a tuple with different data types\n",
    "MyTuple = (\"Namrata\", 12, True)\n",
    "print(MyTuple)"
   ]
  },
  {
   "cell_type": "code",
   "execution_count": 6,
   "id": "87a5d13b",
   "metadata": {},
   "outputs": [
    {
     "name": "stdout",
     "output_type": "stream",
     "text": [
      "False\n",
      "True\n"
     ]
    }
   ],
   "source": [
    "#check whether an elements exits in a tuple\n",
    "MyTuple = (\"Namrata\", 12, True)\n",
    "print(\"Lolge\" in MyTuple)\n",
    "print(12 in MyTuple)"
   ]
  },
  {
   "cell_type": "code",
   "execution_count": 7,
   "id": "0c37cdf3",
   "metadata": {},
   "outputs": [
    {
     "name": "stdout",
     "output_type": "stream",
     "text": [
      "{'college', 'shrirampur', 'rbnb'}\n"
     ]
    }
   ],
   "source": [
    "#create a set\n",
    "Myset = {\"rbnb\", \"college\", \"shrirampur\"}\n",
    "print(Myset)"
   ]
  },
  {
   "cell_type": "code",
   "execution_count": 8,
   "id": "640afb42",
   "metadata": {},
   "outputs": [
    {
     "name": "stdout",
     "output_type": "stream",
     "text": [
      "u\n",
      "a\n",
      "m\n",
      "s\n",
      "i\n",
      "p\n",
      "h\n",
      "r\n"
     ]
    }
   ],
   "source": [
    "#Iterate over sets\n",
    "Myset = set(\"shrirampur\")\n",
    "for val in Myset :\n",
    "    print(val)"
   ]
  },
  {
   "cell_type": "code",
   "execution_count": 11,
   "id": "637e70fe",
   "metadata": {},
   "outputs": [
    {
     "name": "stdout",
     "output_type": "stream",
     "text": [
      "{'college', 'rbnb'}\n",
      "{'b.r.k.k', 'vidyalaya'}\n"
     ]
    }
   ],
   "source": [
    "#create set difference\n",
    "s1 = set([\"rbnb\", \"college\", \"shrirampur\"])\n",
    "s2 = set([\"b.r.k.k\", \"vidyalaya\", \"shrirampur\"]) \n",
    "s3 = s1.difference(s2)\n",
    "print(s3)\n",
    "s4 = s2.difference(s1)\n",
    "print(s4)"
   ]
  },
  {
   "cell_type": "code",
   "execution_count": 12,
   "id": "e6312195",
   "metadata": {},
   "outputs": [
    {
     "name": "stdout",
     "output_type": "stream",
     "text": [
      "Dictionary in ascending order by value : [(0, 0), (2, 1), (1, 2), (4, 3), (3, 4)]\n",
      "Dictionary in descending order by value : [(3, 4), (4, 3), (1, 2), (2, 1), (0, 0)]\n"
     ]
    }
   ],
   "source": [
    "#sort a dictionary by value\n",
    "import operator\n",
    "d = {1:2, 3:4, 4:3, 2:1, 0:0}\n",
    "sorted_d = sorted(d.items(),key = operator.itemgetter(1))\n",
    "print(\"Dictionary in ascending order by value :\", sorted_d)\n",
    "sorted_d = sorted(d.items(),key = operator.itemgetter(1), reverse = True)\n",
    "print(\"Dictionary in descending order by value :\", sorted_d)\n"
   ]
  },
  {
   "cell_type": "code",
   "execution_count": 13,
   "id": "a0341767",
   "metadata": {},
   "outputs": [
    {
     "name": "stdout",
     "output_type": "stream",
     "text": [
      "{10: 0, 0: 20}\n",
      "{10: 0, 0: 20, 1: 2}\n"
     ]
    }
   ],
   "source": [
    "#add a key to a dictionary\n",
    "d = {10:0, 0:20}\n",
    "print(d)\n",
    "d.update({1:2})\n",
    "print(d)"
   ]
  },
  {
   "cell_type": "code",
   "execution_count": 14,
   "id": "62c96bc8",
   "metadata": {},
   "outputs": [
    {
     "name": "stdout",
     "output_type": "stream",
     "text": [
      "blue to 1\n",
      "purple to 2\n",
      "red to 3\n"
     ]
    }
   ],
   "source": [
    "#iterate over dictionary using for loops\n",
    "d = {'blue' : 1, 'purple' : 2, 'red' : 3}\n",
    "for colour_key,value in d.items() :\n",
    "    print(colour_key, 'to', d[colour_key])"
   ]
  },
  {
   "cell_type": "code",
   "execution_count": 15,
   "id": "2bfad236",
   "metadata": {},
   "outputs": [
    {
     "data": {
      "text/plain": [
       "10"
      ]
     },
     "execution_count": 15,
     "metadata": {},
     "output_type": "execute_result"
    }
   ],
   "source": [
    "t = (2, 1, 3, 10, 4, 6)\n",
    "min(t)\n",
    "max(t)"
   ]
  },
  {
   "cell_type": "code",
   "execution_count": 16,
   "id": "941a3a6d",
   "metadata": {},
   "outputs": [
    {
     "data": {
      "text/plain": [
       "('ab', '0', '101', '20')"
      ]
     },
     "execution_count": 16,
     "metadata": {},
     "output_type": "execute_result"
    }
   ],
   "source": [
    "t = ('ab', '0', '101', '20')\n",
    "t"
   ]
  },
  {
   "cell_type": "code",
   "execution_count": null,
   "id": "b5dee6ca",
   "metadata": {},
   "outputs": [],
   "source": []
  }
 ],
 "metadata": {
  "kernelspec": {
   "display_name": "Python 3 (ipykernel)",
   "language": "python",
   "name": "python3"
  },
  "language_info": {
   "codemirror_mode": {
    "name": "ipython",
    "version": 3
   },
   "file_extension": ".py",
   "mimetype": "text/x-python",
   "name": "python",
   "nbconvert_exporter": "python",
   "pygments_lexer": "ipython3",
   "version": "3.9.12"
  }
 },
 "nbformat": 4,
 "nbformat_minor": 5
}
